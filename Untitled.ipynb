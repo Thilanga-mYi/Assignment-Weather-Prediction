{
 "cells": [
  {
   "cell_type": "code",
   "execution_count": 30,
   "id": "b3cd5153",
   "metadata": {},
   "outputs": [],
   "source": [
    "# linear algebra\n",
    "import numpy as np\n",
    "\n",
    "# data processing, CSV file I/O (e.g. pd.read_csv)\n",
    "import pandas as pd\n",
    "\n",
    "# Input data files are available in the \"../input/\" directory.\n",
    "# For example, running this (by clicking run or pressing Shift+Enter) will list the files in the input directory\n",
    "import matplotlib as plt\n",
    "import matplotlib.pyplot as plt\n",
    "import os"
   ]
  },
  {
   "cell_type": "code",
   "execution_count": 31,
   "id": "b7c4d08e",
   "metadata": {},
   "outputs": [
    {
     "data": {
      "text/html": [
       "<div>\n",
       "<style scoped>\n",
       "    .dataframe tbody tr th:only-of-type {\n",
       "        vertical-align: middle;\n",
       "    }\n",
       "\n",
       "    .dataframe tbody tr th {\n",
       "        vertical-align: top;\n",
       "    }\n",
       "\n",
       "    .dataframe thead th {\n",
       "        text-align: right;\n",
       "    }\n",
       "</style>\n",
       "<table border=\"1\" class=\"dataframe\">\n",
       "  <thead>\n",
       "    <tr style=\"text-align: right;\">\n",
       "      <th></th>\n",
       "      <th>waterLevel</th>\n",
       "      <th>humidity</th>\n",
       "      <th>temperature</th>\n",
       "      <th>windSpeed</th>\n",
       "      <th>clouds</th>\n",
       "      <th>pedictedWeather</th>\n",
       "      <th>predictingToFull</th>\n",
       "    </tr>\n",
       "  </thead>\n",
       "  <tbody>\n",
       "    <tr>\n",
       "      <th>0</th>\n",
       "      <td>2</td>\n",
       "      <td>7</td>\n",
       "      <td>13</td>\n",
       "      <td>27</td>\n",
       "      <td>15</td>\n",
       "      <td>Rains</td>\n",
       "      <td>30</td>\n",
       "    </tr>\n",
       "    <tr>\n",
       "      <th>1</th>\n",
       "      <td>0</td>\n",
       "      <td>20</td>\n",
       "      <td>8</td>\n",
       "      <td>31</td>\n",
       "      <td>70</td>\n",
       "      <td>Clouds</td>\n",
       "      <td>21</td>\n",
       "    </tr>\n",
       "    <tr>\n",
       "      <th>2</th>\n",
       "      <td>46</td>\n",
       "      <td>12</td>\n",
       "      <td>1</td>\n",
       "      <td>18</td>\n",
       "      <td>58</td>\n",
       "      <td>Sunny</td>\n",
       "      <td>16</td>\n",
       "    </tr>\n",
       "    <tr>\n",
       "      <th>3</th>\n",
       "      <td>24</td>\n",
       "      <td>17</td>\n",
       "      <td>0</td>\n",
       "      <td>27</td>\n",
       "      <td>11</td>\n",
       "      <td>Rains</td>\n",
       "      <td>30</td>\n",
       "    </tr>\n",
       "    <tr>\n",
       "      <th>4</th>\n",
       "      <td>26</td>\n",
       "      <td>4</td>\n",
       "      <td>13</td>\n",
       "      <td>23</td>\n",
       "      <td>11</td>\n",
       "      <td>Clouds</td>\n",
       "      <td>74</td>\n",
       "    </tr>\n",
       "    <tr>\n",
       "      <th>5</th>\n",
       "      <td>66</td>\n",
       "      <td>1</td>\n",
       "      <td>3</td>\n",
       "      <td>11</td>\n",
       "      <td>3</td>\n",
       "      <td>Clouds</td>\n",
       "      <td>48</td>\n",
       "    </tr>\n",
       "    <tr>\n",
       "      <th>6</th>\n",
       "      <td>4</td>\n",
       "      <td>28</td>\n",
       "      <td>13</td>\n",
       "      <td>25</td>\n",
       "      <td>40</td>\n",
       "      <td>Sunny</td>\n",
       "      <td>62</td>\n",
       "    </tr>\n",
       "    <tr>\n",
       "      <th>7</th>\n",
       "      <td>45</td>\n",
       "      <td>38</td>\n",
       "      <td>10</td>\n",
       "      <td>9</td>\n",
       "      <td>44</td>\n",
       "      <td>Clouds</td>\n",
       "      <td>61</td>\n",
       "    </tr>\n",
       "    <tr>\n",
       "      <th>8</th>\n",
       "      <td>45</td>\n",
       "      <td>2</td>\n",
       "      <td>16</td>\n",
       "      <td>18</td>\n",
       "      <td>32</td>\n",
       "      <td>Clouds</td>\n",
       "      <td>37</td>\n",
       "    </tr>\n",
       "    <tr>\n",
       "      <th>9</th>\n",
       "      <td>68</td>\n",
       "      <td>24</td>\n",
       "      <td>6</td>\n",
       "      <td>30</td>\n",
       "      <td>48</td>\n",
       "      <td>Clouds</td>\n",
       "      <td>45</td>\n",
       "    </tr>\n",
       "  </tbody>\n",
       "</table>\n",
       "</div>"
      ],
      "text/plain": [
       "   waterLevel  humidity  temperature  windSpeed  clouds pedictedWeather  \\\n",
       "0           2         7           13         27      15           Rains   \n",
       "1           0        20            8         31      70          Clouds   \n",
       "2          46        12            1         18      58           Sunny   \n",
       "3          24        17            0         27      11           Rains   \n",
       "4          26         4           13         23      11          Clouds   \n",
       "5          66         1            3         11       3          Clouds   \n",
       "6           4        28           13         25      40           Sunny   \n",
       "7          45        38           10          9      44          Clouds   \n",
       "8          45         2           16         18      32          Clouds   \n",
       "9          68        24            6         30      48          Clouds   \n",
       "\n",
       "   predictingToFull  \n",
       "0                30  \n",
       "1                21  \n",
       "2                16  \n",
       "3                30  \n",
       "4                74  \n",
       "5                48  \n",
       "6                62  \n",
       "7                61  \n",
       "8                37  \n",
       "9                45  "
      ]
     },
     "execution_count": 31,
     "metadata": {},
     "output_type": "execute_result"
    }
   ],
   "source": [
    "weather = pd.read_csv(\"bataAssignmentPy.csv\")\n",
    "weather\n",
    "weather.head(10)"
   ]
  },
  {
   "cell_type": "code",
   "execution_count": 33,
   "id": "000d39c0",
   "metadata": {},
   "outputs": [
    {
     "data": {
      "text/plain": [
       "<AxesSubplot:xlabel='pedictedWeather'>"
      ]
     },
     "execution_count": 33,
     "metadata": {},
     "output_type": "execute_result"
    },
    {
     "data": {
      "image/png": "[encoded data removed]",
      "text/plain": [
       "<Figure size 432x288 with 1 Axes>"
      ]
     },
     "metadata": {
      "needs_background": "light"
     },
     "output_type": "display_data"
    }
   ],
   "source": [
    "weather.groupby('pedictedWeather').mean()['predictingToFull'].plot(kind='bar')"
   ]
  },
  {
   "cell_type": "code",
   "execution_count": 34,
   "id": "2ebc960e",
   "metadata": {},
   "outputs": [
    {
     "name": "stderr",
     "output_type": "stream",
     "text": [
      "/var/folders/nj/gz0dny390v752tt2hrd7484w0000gn/T/ipykernel_14314/1895556667.py:1: FutureWarning: Dropping of nuisance columns in DataFrame reductions (with 'numeric_only=None') is deprecated; in a future version this will raise TypeError.  Select only valid columns before calling the reduction.\n",
      "  weather[weather[\"pedictedWeather\"] == \"Sunny\"].mean()\n"
     ]
    },
    {
     "data": {
      "text/plain": [
       "waterLevel          36.122507\n",
       "humidity            18.313390\n",
       "temperature          9.111111\n",
       "windSpeed           15.598291\n",
       "clouds              37.789174\n",
       "predictingToFull    37.649573\n",
       "dtype: float64"
      ]
     },
     "execution_count": 34,
     "metadata": {},
     "output_type": "execute_result"
    }
   ],
   "source": [
    "weather[weather[\"pedictedWeather\"] == \"Sunny\"].mean()"
   ]
  },
  {
   "cell_type": "code",
   "execution_count": 35,
   "id": "124ea128",
   "metadata": {},
   "outputs": [],
   "source": [
    "def convert_summary(col):\n",
    "    return len(col)"
   ]
  },
  {
   "cell_type": "code",
   "execution_count": 38,
   "id": "447087ba",
   "metadata": {},
   "outputs": [
    {
     "data": {
      "text/html": [
       "<div>\n",
       "<style scoped>\n",
       "    .dataframe tbody tr th:only-of-type {\n",
       "        vertical-align: middle;\n",
       "    }\n",
       "\n",
       "    .dataframe tbody tr th {\n",
       "        vertical-align: top;\n",
       "    }\n",
       "\n",
       "    .dataframe thead th {\n",
       "        text-align: right;\n",
       "    }\n",
       "</style>\n",
       "<table border=\"1\" class=\"dataframe\">\n",
       "  <thead>\n",
       "    <tr style=\"text-align: right;\">\n",
       "      <th></th>\n",
       "      <th>waterLevel</th>\n",
       "      <th>predictingToFull</th>\n",
       "    </tr>\n",
       "  </thead>\n",
       "  <tbody>\n",
       "    <tr>\n",
       "      <th>0</th>\n",
       "      <td>2</td>\n",
       "      <td>30</td>\n",
       "    </tr>\n",
       "    <tr>\n",
       "      <th>1</th>\n",
       "      <td>0</td>\n",
       "      <td>21</td>\n",
       "    </tr>\n",
       "    <tr>\n",
       "      <th>2</th>\n",
       "      <td>46</td>\n",
       "      <td>16</td>\n",
       "    </tr>\n",
       "    <tr>\n",
       "      <th>3</th>\n",
       "      <td>24</td>\n",
       "      <td>30</td>\n",
       "    </tr>\n",
       "    <tr>\n",
       "      <th>4</th>\n",
       "      <td>26</td>\n",
       "      <td>74</td>\n",
       "    </tr>\n",
       "    <tr>\n",
       "      <th>5</th>\n",
       "      <td>66</td>\n",
       "      <td>48</td>\n",
       "    </tr>\n",
       "    <tr>\n",
       "      <th>6</th>\n",
       "      <td>4</td>\n",
       "      <td>62</td>\n",
       "    </tr>\n",
       "    <tr>\n",
       "      <th>7</th>\n",
       "      <td>45</td>\n",
       "      <td>61</td>\n",
       "    </tr>\n",
       "    <tr>\n",
       "      <th>8</th>\n",
       "      <td>45</td>\n",
       "      <td>37</td>\n",
       "    </tr>\n",
       "    <tr>\n",
       "      <th>9</th>\n",
       "      <td>68</td>\n",
       "      <td>45</td>\n",
       "    </tr>\n",
       "    <tr>\n",
       "      <th>10</th>\n",
       "      <td>50</td>\n",
       "      <td>13</td>\n",
       "    </tr>\n",
       "    <tr>\n",
       "      <th>11</th>\n",
       "      <td>55</td>\n",
       "      <td>52</td>\n",
       "    </tr>\n",
       "  </tbody>\n",
       "</table>\n",
       "</div>"
      ],
      "text/plain": [
       "    waterLevel  predictingToFull\n",
       "0            2                30\n",
       "1            0                21\n",
       "2           46                16\n",
       "3           24                30\n",
       "4           26                74\n",
       "5           66                48\n",
       "6            4                62\n",
       "7           45                61\n",
       "8           45                37\n",
       "9           68                45\n",
       "10          50                13\n",
       "11          55                52"
      ]
     },
     "execution_count": 38,
     "metadata": {},
     "output_type": "execute_result"
    }
   ],
   "source": [
    "# Need to find the Apparent temperature when humidity given\n",
    "weather_temp = weather[[\"waterLevel\",\"predictingToFull\"]]\n",
    "\n",
    "# weather_temp[\"Summary\"] = weather[\"Summary\"].apply(convert_summary) \n",
    "weather_temp.head(12)"
   ]
  },
  {
   "cell_type": "code",
   "execution_count": 39,
   "id": "0c68d354",
   "metadata": {},
   "outputs": [
    {
     "data": {
      "text/plain": [
       "<AxesSubplot:xlabel='pedictedWeather'>"
      ]
     },
     "execution_count": 39,
     "metadata": {},
     "output_type": "execute_result"
    },
    {
     "data": {
      "image/png": "[encoded data removed]",
      "text/plain": [
       "<Figure size 432x288 with 1 Axes>"
      ]
     },
     "metadata": {
      "needs_background": "light"
     },
     "output_type": "display_data"
    }
   ],
   "source": [
    "weather.groupby('pedictedWeather').mean()[\"predictingToFull\"].plot(kind='bar')"
   ]
  },
  {
   "cell_type": "code",
   "execution_count": 40,
   "id": "149493b6",
   "metadata": {},
   "outputs": [
    {
     "data": {
      "text/html": [
       "<div>\n",
       "<style scoped>\n",
       "    .dataframe tbody tr th:only-of-type {\n",
       "        vertical-align: middle;\n",
       "    }\n",
       "\n",
       "    .dataframe tbody tr th {\n",
       "        vertical-align: top;\n",
       "    }\n",
       "\n",
       "    .dataframe thead th {\n",
       "        text-align: right;\n",
       "    }\n",
       "</style>\n",
       "<table border=\"1\" class=\"dataframe\">\n",
       "  <thead>\n",
       "    <tr style=\"text-align: right;\">\n",
       "      <th></th>\n",
       "      <th>Clouds</th>\n",
       "      <th>Rains</th>\n",
       "      <th>Sunny</th>\n",
       "    </tr>\n",
       "  </thead>\n",
       "  <tbody>\n",
       "    <tr>\n",
       "      <th>0</th>\n",
       "      <td>0</td>\n",
       "      <td>1</td>\n",
       "      <td>0</td>\n",
       "    </tr>\n",
       "    <tr>\n",
       "      <th>1</th>\n",
       "      <td>1</td>\n",
       "      <td>0</td>\n",
       "      <td>0</td>\n",
       "    </tr>\n",
       "    <tr>\n",
       "      <th>2</th>\n",
       "      <td>0</td>\n",
       "      <td>0</td>\n",
       "      <td>1</td>\n",
       "    </tr>\n",
       "    <tr>\n",
       "      <th>3</th>\n",
       "      <td>0</td>\n",
       "      <td>1</td>\n",
       "      <td>0</td>\n",
       "    </tr>\n",
       "    <tr>\n",
       "      <th>4</th>\n",
       "      <td>1</td>\n",
       "      <td>0</td>\n",
       "      <td>0</td>\n",
       "    </tr>\n",
       "    <tr>\n",
       "      <th>...</th>\n",
       "      <td>...</td>\n",
       "      <td>...</td>\n",
       "      <td>...</td>\n",
       "    </tr>\n",
       "    <tr>\n",
       "      <th>117</th>\n",
       "      <td>0</td>\n",
       "      <td>0</td>\n",
       "      <td>1</td>\n",
       "    </tr>\n",
       "    <tr>\n",
       "      <th>118</th>\n",
       "      <td>0</td>\n",
       "      <td>0</td>\n",
       "      <td>1</td>\n",
       "    </tr>\n",
       "    <tr>\n",
       "      <th>119</th>\n",
       "      <td>1</td>\n",
       "      <td>0</td>\n",
       "      <td>0</td>\n",
       "    </tr>\n",
       "    <tr>\n",
       "      <th>120</th>\n",
       "      <td>0</td>\n",
       "      <td>0</td>\n",
       "      <td>1</td>\n",
       "    </tr>\n",
       "    <tr>\n",
       "      <th>121</th>\n",
       "      <td>0</td>\n",
       "      <td>0</td>\n",
       "      <td>1</td>\n",
       "    </tr>\n",
       "  </tbody>\n",
       "</table>\n",
       "<p>122 rows × 3 columns</p>\n",
       "</div>"
      ],
      "text/plain": [
       "     Clouds  Rains  Sunny\n",
       "0         0      1      0\n",
       "1         1      0      0\n",
       "2         0      0      1\n",
       "3         0      1      0\n",
       "4         1      0      0\n",
       "..      ...    ...    ...\n",
       "117       0      0      1\n",
       "118       0      0      1\n",
       "119       1      0      0\n",
       "120       0      0      1\n",
       "121       0      0      1\n",
       "\n",
       "[122 rows x 3 columns]"
      ]
     },
     "execution_count": 40,
     "metadata": {},
     "output_type": "execute_result"
    }
   ],
   "source": [
    "dummies = pd.get_dummies(weather[\"pedictedWeather\"])\n",
    "dummies.head(122)"
   ]
  },
  {
   "cell_type": "code",
   "execution_count": 41,
   "id": "65dd18d0",
   "metadata": {},
   "outputs": [
    {
     "data": {
      "text/html": [
       "<div>\n",
       "<style scoped>\n",
       "    .dataframe tbody tr th:only-of-type {\n",
       "        vertical-align: middle;\n",
       "    }\n",
       "\n",
       "    .dataframe tbody tr th {\n",
       "        vertical-align: top;\n",
       "    }\n",
       "\n",
       "    .dataframe thead th {\n",
       "        text-align: right;\n",
       "    }\n",
       "</style>\n",
       "<table border=\"1\" class=\"dataframe\">\n",
       "  <thead>\n",
       "    <tr style=\"text-align: right;\">\n",
       "      <th></th>\n",
       "      <th>waterLevel</th>\n",
       "      <th>predictingToFull</th>\n",
       "      <th>Clouds</th>\n",
       "      <th>Rains</th>\n",
       "      <th>Sunny</th>\n",
       "    </tr>\n",
       "  </thead>\n",
       "  <tbody>\n",
       "    <tr>\n",
       "      <th>0</th>\n",
       "      <td>2</td>\n",
       "      <td>30</td>\n",
       "      <td>0</td>\n",
       "      <td>1</td>\n",
       "      <td>0</td>\n",
       "    </tr>\n",
       "    <tr>\n",
       "      <th>1</th>\n",
       "      <td>0</td>\n",
       "      <td>21</td>\n",
       "      <td>1</td>\n",
       "      <td>0</td>\n",
       "      <td>0</td>\n",
       "    </tr>\n",
       "    <tr>\n",
       "      <th>2</th>\n",
       "      <td>46</td>\n",
       "      <td>16</td>\n",
       "      <td>0</td>\n",
       "      <td>0</td>\n",
       "      <td>1</td>\n",
       "    </tr>\n",
       "    <tr>\n",
       "      <th>3</th>\n",
       "      <td>24</td>\n",
       "      <td>30</td>\n",
       "      <td>0</td>\n",
       "      <td>1</td>\n",
       "      <td>0</td>\n",
       "    </tr>\n",
       "    <tr>\n",
       "      <th>4</th>\n",
       "      <td>26</td>\n",
       "      <td>74</td>\n",
       "      <td>1</td>\n",
       "      <td>0</td>\n",
       "      <td>0</td>\n",
       "    </tr>\n",
       "    <tr>\n",
       "      <th>5</th>\n",
       "      <td>66</td>\n",
       "      <td>48</td>\n",
       "      <td>1</td>\n",
       "      <td>0</td>\n",
       "      <td>0</td>\n",
       "    </tr>\n",
       "    <tr>\n",
       "      <th>6</th>\n",
       "      <td>4</td>\n",
       "      <td>62</td>\n",
       "      <td>0</td>\n",
       "      <td>0</td>\n",
       "      <td>1</td>\n",
       "    </tr>\n",
       "    <tr>\n",
       "      <th>7</th>\n",
       "      <td>45</td>\n",
       "      <td>61</td>\n",
       "      <td>1</td>\n",
       "      <td>0</td>\n",
       "      <td>0</td>\n",
       "    </tr>\n",
       "    <tr>\n",
       "      <th>8</th>\n",
       "      <td>45</td>\n",
       "      <td>37</td>\n",
       "      <td>1</td>\n",
       "      <td>0</td>\n",
       "      <td>0</td>\n",
       "    </tr>\n",
       "    <tr>\n",
       "      <th>9</th>\n",
       "      <td>68</td>\n",
       "      <td>45</td>\n",
       "      <td>1</td>\n",
       "      <td>0</td>\n",
       "      <td>0</td>\n",
       "    </tr>\n",
       "    <tr>\n",
       "      <th>10</th>\n",
       "      <td>50</td>\n",
       "      <td>13</td>\n",
       "      <td>0</td>\n",
       "      <td>0</td>\n",
       "      <td>1</td>\n",
       "    </tr>\n",
       "    <tr>\n",
       "      <th>11</th>\n",
       "      <td>55</td>\n",
       "      <td>52</td>\n",
       "      <td>1</td>\n",
       "      <td>0</td>\n",
       "      <td>0</td>\n",
       "    </tr>\n",
       "  </tbody>\n",
       "</table>\n",
       "</div>"
      ],
      "text/plain": [
       "    waterLevel  predictingToFull  Clouds  Rains  Sunny\n",
       "0            2                30       0      1      0\n",
       "1            0                21       1      0      0\n",
       "2           46                16       0      0      1\n",
       "3           24                30       0      1      0\n",
       "4           26                74       1      0      0\n",
       "5           66                48       1      0      0\n",
       "6            4                62       0      0      1\n",
       "7           45                61       1      0      0\n",
       "8           45                37       1      0      0\n",
       "9           68                45       1      0      0\n",
       "10          50                13       0      0      1\n",
       "11          55                52       1      0      0"
      ]
     },
     "execution_count": 41,
     "metadata": {},
     "output_type": "execute_result"
    }
   ],
   "source": [
    "weather_temp2 = pd.concat([weather_temp,dummies],axis=1)\n",
    "weather_temp2.head(12)"
   ]
  },
  {
   "cell_type": "code",
   "execution_count": 42,
   "id": "08d23bfc",
   "metadata": {},
   "outputs": [
    {
     "data": {
      "text/html": [
       "<div>\n",
       "<style scoped>\n",
       "    .dataframe tbody tr th:only-of-type {\n",
       "        vertical-align: middle;\n",
       "    }\n",
       "\n",
       "    .dataframe tbody tr th {\n",
       "        vertical-align: top;\n",
       "    }\n",
       "\n",
       "    .dataframe thead th {\n",
       "        text-align: right;\n",
       "    }\n",
       "</style>\n",
       "<table border=\"1\" class=\"dataframe\">\n",
       "  <thead>\n",
       "    <tr style=\"text-align: right;\">\n",
       "      <th></th>\n",
       "      <th>waterLevel</th>\n",
       "      <th>predictingToFull</th>\n",
       "      <th>Clouds</th>\n",
       "      <th>Rains</th>\n",
       "      <th>Sunny</th>\n",
       "    </tr>\n",
       "  </thead>\n",
       "  <tbody>\n",
       "    <tr>\n",
       "      <th>0</th>\n",
       "      <td>2</td>\n",
       "      <td>30</td>\n",
       "      <td>0</td>\n",
       "      <td>1</td>\n",
       "      <td>0</td>\n",
       "    </tr>\n",
       "    <tr>\n",
       "      <th>1</th>\n",
       "      <td>0</td>\n",
       "      <td>21</td>\n",
       "      <td>1</td>\n",
       "      <td>0</td>\n",
       "      <td>0</td>\n",
       "    </tr>\n",
       "    <tr>\n",
       "      <th>2</th>\n",
       "      <td>46</td>\n",
       "      <td>16</td>\n",
       "      <td>0</td>\n",
       "      <td>0</td>\n",
       "      <td>1</td>\n",
       "    </tr>\n",
       "    <tr>\n",
       "      <th>3</th>\n",
       "      <td>24</td>\n",
       "      <td>30</td>\n",
       "      <td>0</td>\n",
       "      <td>1</td>\n",
       "      <td>0</td>\n",
       "    </tr>\n",
       "    <tr>\n",
       "      <th>4</th>\n",
       "      <td>26</td>\n",
       "      <td>74</td>\n",
       "      <td>1</td>\n",
       "      <td>0</td>\n",
       "      <td>0</td>\n",
       "    </tr>\n",
       "    <tr>\n",
       "      <th>...</th>\n",
       "      <td>...</td>\n",
       "      <td>...</td>\n",
       "      <td>...</td>\n",
       "      <td>...</td>\n",
       "      <td>...</td>\n",
       "    </tr>\n",
       "    <tr>\n",
       "      <th>995</th>\n",
       "      <td>41</td>\n",
       "      <td>14</td>\n",
       "      <td>0</td>\n",
       "      <td>1</td>\n",
       "      <td>0</td>\n",
       "    </tr>\n",
       "    <tr>\n",
       "      <th>996</th>\n",
       "      <td>5</td>\n",
       "      <td>17</td>\n",
       "      <td>0</td>\n",
       "      <td>0</td>\n",
       "      <td>1</td>\n",
       "    </tr>\n",
       "    <tr>\n",
       "      <th>997</th>\n",
       "      <td>35</td>\n",
       "      <td>38</td>\n",
       "      <td>0</td>\n",
       "      <td>0</td>\n",
       "      <td>1</td>\n",
       "    </tr>\n",
       "    <tr>\n",
       "      <th>998</th>\n",
       "      <td>63</td>\n",
       "      <td>19</td>\n",
       "      <td>0</td>\n",
       "      <td>1</td>\n",
       "      <td>0</td>\n",
       "    </tr>\n",
       "    <tr>\n",
       "      <th>999</th>\n",
       "      <td>51</td>\n",
       "      <td>62</td>\n",
       "      <td>0</td>\n",
       "      <td>1</td>\n",
       "      <td>0</td>\n",
       "    </tr>\n",
       "  </tbody>\n",
       "</table>\n",
       "<p>1000 rows × 5 columns</p>\n",
       "</div>"
      ],
      "text/plain": [
       "     waterLevel  predictingToFull  Clouds  Rains  Sunny\n",
       "0             2                30       0      1      0\n",
       "1             0                21       1      0      0\n",
       "2            46                16       0      0      1\n",
       "3            24                30       0      1      0\n",
       "4            26                74       1      0      0\n",
       "..          ...               ...     ...    ...    ...\n",
       "995          41                14       0      1      0\n",
       "996           5                17       0      0      1\n",
       "997          35                38       0      0      1\n",
       "998          63                19       0      1      0\n",
       "999          51                62       0      1      0\n",
       "\n",
       "[1000 rows x 5 columns]"
      ]
     },
     "execution_count": 42,
     "metadata": {},
     "output_type": "execute_result"
    }
   ],
   "source": [
    "# Spliting X (Independent Variables) and Y(predicting variable)\n",
    "\n",
    "Y = weather_temp[\"predictingToFull\"]\n",
    "X = weather_temp2\n",
    "# making Two dimensional array\n",
    "# X = X.reshape(-1,1)\n",
    "X"
   ]
  },
  {
   "cell_type": "code",
   "execution_count": 43,
   "id": "ee8f7d26",
   "metadata": {},
   "outputs": [
    {
     "name": "stdout",
     "output_type": "stream",
     "text": [
      "waterLevel          1000\n",
      "predictingToFull    1000\n",
      "Clouds              1000\n",
      "Rains               1000\n",
      "Sunny               1000\n",
      "dtype: int64 (1000, 5)\n",
      "waterLevel          1000\n",
      "predictingToFull    1000\n",
      "Clouds              1000\n",
      "Rains               1000\n",
      "Sunny               1000\n",
      "dtype: int64\n"
     ]
    }
   ],
   "source": [
    "# Normalizing the X variables \n",
    "# check the x values should be between (-3  3)\n",
    "#X.dropna()\n",
    "x = (X >=0)\n",
    "x.sum()\n",
    "\n",
    "# prints the zero humidity\n",
    "print(x.sum(),X.shape)\n",
    "non_zero_humidity = X >= 0\n",
    "print(non_zero_humidity.sum())"
   ]
  },
  {
   "cell_type": "code",
   "execution_count": 44,
   "id": "76c82725",
   "metadata": {},
   "outputs": [],
   "source": [
    "from sklearn.model_selection import train_test_split\n",
    "X_train, X_test, y_train, y_test = train_test_split(X,Y,test_size=0.3)"
   ]
  },
  {
   "cell_type": "code",
   "execution_count": 45,
   "id": "1464bec0",
   "metadata": {},
   "outputs": [
    {
     "data": {
      "text/plain": [
       "((700, 5), (700,))"
      ]
     },
     "execution_count": 45,
     "metadata": {},
     "output_type": "execute_result"
    }
   ],
   "source": [
    "X_train.shape, y_train.shape"
   ]
  },
  {
   "cell_type": "code",
   "execution_count": 46,
   "id": "192185da",
   "metadata": {},
   "outputs": [
    {
     "data": {
      "text/plain": [
       "45     24\n",
       "541    73\n",
       "112    68\n",
       "24     26\n",
       "306    29\n",
       "451    40\n",
       "264    21\n",
       "944     0\n",
       "406     0\n",
       "158    69\n",
       "Name: predictingToFull, dtype: int64"
      ]
     },
     "execution_count": 46,
     "metadata": {},
     "output_type": "execute_result"
    }
   ],
   "source": [
    "#print(X_train.head(10))\n",
    "y_train.head(10)"
   ]
  },
  {
   "cell_type": "code",
   "execution_count": 47,
   "id": "0424b4d6",
   "metadata": {},
   "outputs": [
    {
     "data": {
      "text/plain": [
       "LinearRegression()"
      ]
     },
     "execution_count": 47,
     "metadata": {},
     "output_type": "execute_result"
    }
   ],
   "source": [
    "from sklearn.linear_model import LinearRegression\n",
    "model = LinearRegression()\n",
    "model.fit(X_train, y_train)"
   ]
  },
  {
   "cell_type": "code",
   "execution_count": 48,
   "id": "5ed57783",
   "metadata": {},
   "outputs": [
    {
     "data": {
      "text/plain": [
       "((700, 5), (700,))"
      ]
     },
     "execution_count": 48,
     "metadata": {},
     "output_type": "execute_result"
    }
   ],
   "source": [
    "X_train.shape,y_train.shape"
   ]
  },
  {
   "cell_type": "code",
   "execution_count": 49,
   "id": "e7638255",
   "metadata": {},
   "outputs": [
    {
     "data": {
      "text/plain": [
       "Text(0, 0.5, 'Predicting To Full')"
      ]
     },
     "execution_count": 49,
     "metadata": {},
     "output_type": "execute_result"
    },
    {
     "data": {
      "image/png": "[encoded data removed]",
      "text/plain": [
       "<Figure size 432x288 with 1 Axes>"
      ]
     },
     "metadata": {
      "needs_background": "light"
     },
     "output_type": "display_data"
    }
   ],
   "source": [
    "plt.scatter(X_train[\"waterLevel\"], y_train)\n",
    "#plt.plot(X_train[\"Humidity\"], model.predict(X_train[\"Humidity\"]), color='black')\n",
    "plt.title(\"Predicting To Full v/s Water Level\")\n",
    "plt.xlabel(\"Water Level\")\n",
    "plt.ylabel(\"Predicting To Full\")"
   ]
  },
  {
   "cell_type": "code",
   "execution_count": 50,
   "id": "36966684",
   "metadata": {},
   "outputs": [
    {
     "data": {
      "text/plain": [
       "array([4.30000000e+01, 7.00000000e+00, 6.80000000e+01, 6.10000000e+01,\n",
       "       5.60000000e+01, 4.00000000e+00, 8.00000000e+00, 6.80000000e+01,\n",
       "       7.30000000e+01, 3.80000000e+01, 6.60000000e+01, 4.00000000e+01,\n",
       "       4.50000000e+01, 1.60000000e+01, 1.10000000e+01, 3.50000000e+01,\n",
       "       1.50000000e+01, 9.00000000e+00, 2.80000000e+01, 4.00000000e+00,\n",
       "       2.60000000e+01, 6.90000000e+01, 1.60000000e+01, 3.80000000e+01,\n",
       "       1.00000000e+01, 4.20000000e+01, 1.10000000e+01, 1.00000000e+00,\n",
       "       5.80000000e+01, 5.70000000e+01, 6.00000000e+01, 4.30000000e+01,\n",
       "       7.10000000e+01, 4.90000000e+01, 2.40000000e+01, 2.00000000e+00,\n",
       "       5.90000000e+01, 4.00000000e+01, 4.20000000e+01, 9.00000000e+00,\n",
       "       7.10000000e+01, 2.70000000e+01, 5.50000000e+01, 4.60000000e+01,\n",
       "       4.00000000e+01, 4.90000000e+01, 2.30000000e+01, 2.60000000e+01,\n",
       "       6.30000000e+01, 2.70000000e+01, 5.70000000e+01, 3.10000000e+01,\n",
       "       1.00000000e+00, 4.70000000e+01, 6.20000000e+01, 2.10000000e+01,\n",
       "       2.10000000e+01, 6.70000000e+01, 3.60000000e+01, 6.00000000e+00,\n",
       "       2.10000000e+01, 5.40000000e+01, 3.20000000e+01, 1.50000000e+01,\n",
       "       7.40000000e+01, 2.40000000e+01, 4.90000000e+01, 6.10000000e+01,\n",
       "       5.50000000e+01, 5.30000000e+01, 7.30000000e+01, 9.00000000e+00,\n",
       "       2.20000000e+01, 6.80000000e+01, 2.40000000e+01, 5.40000000e+01,\n",
       "       3.90000000e+01, 3.70000000e+01, 5.50000000e+01, 4.30000000e+01,\n",
       "       3.20000000e+01, 3.80000000e+01, 3.90000000e+01, 1.30000000e+01,\n",
       "       1.50000000e+01, 6.50000000e+01, 5.90000000e+01, 6.40000000e+01,\n",
       "       5.60000000e+01, 3.70000000e+01, 2.00000000e+01, 7.20000000e+01,\n",
       "       2.10000000e+01, 1.00000000e+00, 3.00000000e+00, 2.30000000e+01,\n",
       "       3.00000000e+01, 6.20000000e+01, 1.20000000e+01, 2.10000000e+01,\n",
       "       5.90000000e+01, 2.00000000e+00, 7.00000000e+01, 3.80000000e+01,\n",
       "       6.70000000e+01, 1.40000000e+01, 9.00000000e+00, 7.00000000e+00,\n",
       "       4.80000000e+01, 1.70000000e+01, 4.00000000e+00, 1.00000000e+00,\n",
       "       1.00000000e+01, 5.50000000e+01, 6.90000000e+01, 2.80000000e+01,\n",
       "       6.40000000e+01, 2.50000000e+01, 3.40000000e+01, 6.30000000e+01,\n",
       "       6.60000000e+01, 3.00000000e+00, 4.00000000e+01, 9.00000000e+00,\n",
       "       5.80000000e+01, 1.70000000e+01, 9.00000000e+00, 3.00000000e+01,\n",
       "       6.00000000e+00, 3.90000000e+01, 2.30000000e+01, 8.00000000e+00,\n",
       "       1.40000000e+01, 7.20000000e+01, 5.10000000e+01, 7.40000000e+01,\n",
       "       6.00000000e+01, 6.70000000e+01, 5.50000000e+01, 7.00000000e+00,\n",
       "       4.60000000e+01, 5.40000000e+01, 1.50000000e+01, 2.00000000e+00,\n",
       "       6.40000000e+01, 3.00000000e+01, 5.70000000e+01, 5.00000000e+01,\n",
       "       6.30000000e+01, 7.30000000e+01, 2.00000000e+01, 3.60000000e+01,\n",
       "       1.35573691e-15, 1.20000000e+01, 4.00000000e+00, 1.40000000e+01,\n",
       "       2.70000000e+01, 1.00000000e+01, 6.50000000e+01, 5.40000000e+01,\n",
       "       6.10000000e+01, 4.20000000e+01, 2.30000000e+01, 4.40000000e+01,\n",
       "       7.00000000e+00, 7.10000000e+01, 1.10000000e+01, 6.10000000e+01,\n",
       "       2.50000000e+01, 5.90000000e+01, 6.80000000e+01, 2.20000000e+01,\n",
       "       6.00000000e+00, 7.30000000e+01, 3.70000000e+01, 1.00000000e+01,\n",
       "       3.90000000e+01, 5.30000000e+01, 5.70000000e+01, 7.40000000e+01,\n",
       "       2.70000000e+01, 6.00000000e+01, 1.30000000e+01, 5.20000000e+01,\n",
       "       5.50000000e+01, 3.50000000e+01, 4.20000000e+01, 2.10000000e+01,\n",
       "       2.10000000e+01, 4.00000000e+01, 6.90000000e+01, 5.00000000e+00,\n",
       "       2.20000000e+01, 6.10000000e+01, 4.20000000e+01, 6.40000000e+01,\n",
       "       5.60000000e+01, 1.30000000e+01, 3.10000000e+01, 4.50000000e+01,\n",
       "       6.20000000e+01, 1.50000000e+01, 7.30000000e+01, 7.10000000e+01,\n",
       "       6.60000000e+01, 2.60000000e+01, 3.00000000e+00, 3.40000000e+01,\n",
       "       2.30000000e+01, 1.10000000e+01, 5.10000000e+01, 3.40000000e+01,\n",
       "       2.50000000e+01, 6.00000000e+00, 5.60000000e+01, 4.30000000e+01,\n",
       "       4.20000000e+01, 5.00000000e+00, 5.00000000e+01, 2.00000000e+00,\n",
       "       5.30000000e+01, 4.20000000e+01, 1.00000000e+01, 7.00000000e+01,\n",
       "       3.00000000e+01, 2.40000000e+01, 1.10000000e+01, 5.80000000e+01,\n",
       "       7.10000000e+01, 2.00000000e+00, 2.60000000e+01, 6.60000000e+01,\n",
       "       5.50000000e+01, 5.60000000e+01, 2.20000000e+01, 3.30000000e+01,\n",
       "       2.90000000e+01, 2.40000000e+01, 3.80000000e+01, 7.10000000e+01,\n",
       "       1.00000000e+00, 7.00000000e+00, 1.00000000e+01, 7.20000000e+01,\n",
       "       3.30000000e+01, 1.50000000e+01, 7.20000000e+01, 8.00000000e+00,\n",
       "       2.20000000e+01, 1.90000000e+01, 7.40000000e+01, 4.10000000e+01,\n",
       "       2.10000000e+01, 3.90000000e+01, 2.00000000e+00, 3.40000000e+01,\n",
       "       2.00000000e+01, 5.20000000e+01, 1.10000000e+01, 5.50000000e+01,\n",
       "       3.90000000e+01, 5.50000000e+01, 5.00000000e+01, 2.80000000e+01,\n",
       "       3.00000000e+01, 5.60000000e+01, 2.30000000e+01, 1.10000000e+01,\n",
       "       6.90000000e+01, 3.10000000e+01, 6.10000000e+01, 3.20000000e+01,\n",
       "       2.70000000e+01, 6.80000000e+01, 6.40000000e+01, 5.10000000e+01,\n",
       "       4.80000000e+01, 3.60000000e+01, 3.60000000e+01, 1.80000000e+01,\n",
       "       3.00000000e+00, 4.40000000e+01, 1.00000000e+01, 6.90000000e+01,\n",
       "       5.10000000e+01, 2.70000000e+01, 3.30000000e+01, 1.50000000e+01,\n",
       "       5.70000000e+01, 4.30000000e+01, 4.70000000e+01, 3.70000000e+01,\n",
       "       1.10000000e+01, 6.50000000e+01, 3.80000000e+01, 2.90000000e+01,\n",
       "       1.30000000e+01, 3.30000000e+01, 4.80000000e+01, 1.40000000e+01])"
      ]
     },
     "execution_count": 50,
     "metadata": {},
     "output_type": "execute_result"
    }
   ],
   "source": [
    "pred = model.predict(X_test)\n",
    "pred"
   ]
  },
  {
   "cell_type": "code",
   "execution_count": 51,
   "id": "609a197f",
   "metadata": {},
   "outputs": [],
   "source": [
    "y_predict = model.predict(X_test)"
   ]
  },
  {
   "cell_type": "code",
   "execution_count": 52,
   "id": "27063ab7",
   "metadata": {},
   "outputs": [
    {
     "data": {
      "text/plain": [
       "array([[4.30000000e+01, 7.00000000e+00, 6.80000000e+01, 6.10000000e+01,\n",
       "        5.60000000e+01, 4.00000000e+00, 8.00000000e+00, 6.80000000e+01,\n",
       "        7.30000000e+01, 3.80000000e+01, 6.60000000e+01, 4.00000000e+01,\n",
       "        4.50000000e+01, 1.60000000e+01, 1.10000000e+01, 3.50000000e+01,\n",
       "        1.50000000e+01, 9.00000000e+00, 2.80000000e+01, 4.00000000e+00,\n",
       "        2.60000000e+01, 6.90000000e+01, 1.60000000e+01, 3.80000000e+01,\n",
       "        1.00000000e+01, 4.20000000e+01, 1.10000000e+01, 1.00000000e+00,\n",
       "        5.80000000e+01, 5.70000000e+01, 6.00000000e+01, 4.30000000e+01,\n",
       "        7.10000000e+01, 4.90000000e+01, 2.40000000e+01, 2.00000000e+00,\n",
       "        5.90000000e+01, 4.00000000e+01, 4.20000000e+01, 9.00000000e+00,\n",
       "        7.10000000e+01, 2.70000000e+01, 5.50000000e+01, 4.60000000e+01,\n",
       "        4.00000000e+01, 4.90000000e+01, 2.30000000e+01, 2.60000000e+01,\n",
       "        6.30000000e+01, 2.70000000e+01, 5.70000000e+01, 3.10000000e+01,\n",
       "        1.00000000e+00, 4.70000000e+01, 6.20000000e+01, 2.10000000e+01,\n",
       "        2.10000000e+01, 6.70000000e+01, 3.60000000e+01, 6.00000000e+00,\n",
       "        2.10000000e+01, 5.40000000e+01, 3.20000000e+01, 1.50000000e+01,\n",
       "        7.40000000e+01, 2.40000000e+01, 4.90000000e+01, 6.10000000e+01,\n",
       "        5.50000000e+01, 5.30000000e+01, 7.30000000e+01, 9.00000000e+00,\n",
       "        2.20000000e+01, 6.80000000e+01, 2.40000000e+01, 5.40000000e+01,\n",
       "        3.90000000e+01, 3.70000000e+01, 5.50000000e+01, 4.30000000e+01,\n",
       "        3.20000000e+01, 3.80000000e+01, 3.90000000e+01, 1.30000000e+01,\n",
       "        1.50000000e+01, 6.50000000e+01, 5.90000000e+01, 6.40000000e+01,\n",
       "        5.60000000e+01, 3.70000000e+01, 2.00000000e+01, 7.20000000e+01,\n",
       "        2.10000000e+01, 1.00000000e+00, 3.00000000e+00, 2.30000000e+01,\n",
       "        3.00000000e+01, 6.20000000e+01, 1.20000000e+01, 2.10000000e+01,\n",
       "        5.90000000e+01, 2.00000000e+00, 7.00000000e+01, 3.80000000e+01,\n",
       "        6.70000000e+01, 1.40000000e+01, 9.00000000e+00, 7.00000000e+00,\n",
       "        4.80000000e+01, 1.70000000e+01, 4.00000000e+00, 1.00000000e+00,\n",
       "        1.00000000e+01, 5.50000000e+01, 6.90000000e+01, 2.80000000e+01,\n",
       "        6.40000000e+01, 2.50000000e+01, 3.40000000e+01, 6.30000000e+01,\n",
       "        6.60000000e+01, 3.00000000e+00, 4.00000000e+01, 9.00000000e+00,\n",
       "        5.80000000e+01, 1.70000000e+01, 9.00000000e+00, 3.00000000e+01,\n",
       "        6.00000000e+00, 3.90000000e+01, 2.30000000e+01, 8.00000000e+00,\n",
       "        1.40000000e+01, 7.20000000e+01, 5.10000000e+01, 7.40000000e+01,\n",
       "        6.00000000e+01, 6.70000000e+01, 5.50000000e+01, 7.00000000e+00,\n",
       "        4.60000000e+01, 5.40000000e+01, 1.50000000e+01, 2.00000000e+00,\n",
       "        6.40000000e+01, 3.00000000e+01, 5.70000000e+01, 5.00000000e+01,\n",
       "        6.30000000e+01, 7.30000000e+01, 2.00000000e+01, 3.60000000e+01,\n",
       "        1.35573691e-15, 1.20000000e+01, 4.00000000e+00, 1.40000000e+01,\n",
       "        2.70000000e+01, 1.00000000e+01, 6.50000000e+01, 5.40000000e+01,\n",
       "        6.10000000e+01, 4.20000000e+01, 2.30000000e+01, 4.40000000e+01,\n",
       "        7.00000000e+00, 7.10000000e+01, 1.10000000e+01, 6.10000000e+01,\n",
       "        2.50000000e+01, 5.90000000e+01, 6.80000000e+01, 2.20000000e+01,\n",
       "        6.00000000e+00, 7.30000000e+01, 3.70000000e+01, 1.00000000e+01,\n",
       "        3.90000000e+01, 5.30000000e+01, 5.70000000e+01, 7.40000000e+01,\n",
       "        2.70000000e+01, 6.00000000e+01, 1.30000000e+01, 5.20000000e+01,\n",
       "        5.50000000e+01, 3.50000000e+01, 4.20000000e+01, 2.10000000e+01,\n",
       "        2.10000000e+01, 4.00000000e+01, 6.90000000e+01, 5.00000000e+00,\n",
       "        2.20000000e+01, 6.10000000e+01, 4.20000000e+01, 6.40000000e+01,\n",
       "        5.60000000e+01, 1.30000000e+01, 3.10000000e+01, 4.50000000e+01,\n",
       "        6.20000000e+01, 1.50000000e+01, 7.30000000e+01, 7.10000000e+01,\n",
       "        6.60000000e+01, 2.60000000e+01, 3.00000000e+00, 3.40000000e+01,\n",
       "        2.30000000e+01, 1.10000000e+01, 5.10000000e+01, 3.40000000e+01,\n",
       "        2.50000000e+01, 6.00000000e+00, 5.60000000e+01, 4.30000000e+01,\n",
       "        4.20000000e+01, 5.00000000e+00, 5.00000000e+01, 2.00000000e+00,\n",
       "        5.30000000e+01, 4.20000000e+01, 1.00000000e+01, 7.00000000e+01,\n",
       "        3.00000000e+01, 2.40000000e+01, 1.10000000e+01, 5.80000000e+01,\n",
       "        7.10000000e+01, 2.00000000e+00, 2.60000000e+01, 6.60000000e+01,\n",
       "        5.50000000e+01, 5.60000000e+01, 2.20000000e+01, 3.30000000e+01,\n",
       "        2.90000000e+01, 2.40000000e+01, 3.80000000e+01, 7.10000000e+01,\n",
       "        1.00000000e+00, 7.00000000e+00, 1.00000000e+01, 7.20000000e+01,\n",
       "        3.30000000e+01, 1.50000000e+01, 7.20000000e+01, 8.00000000e+00,\n",
       "        2.20000000e+01, 1.90000000e+01, 7.40000000e+01, 4.10000000e+01,\n",
       "        2.10000000e+01, 3.90000000e+01, 2.00000000e+00, 3.40000000e+01,\n",
       "        2.00000000e+01, 5.20000000e+01, 1.10000000e+01, 5.50000000e+01,\n",
       "        3.90000000e+01, 5.50000000e+01, 5.00000000e+01, 2.80000000e+01,\n",
       "        3.00000000e+01, 5.60000000e+01, 2.30000000e+01, 1.10000000e+01,\n",
       "        6.90000000e+01, 3.10000000e+01, 6.10000000e+01, 3.20000000e+01,\n",
       "        2.70000000e+01, 6.80000000e+01, 6.40000000e+01, 5.10000000e+01,\n",
       "        4.80000000e+01, 3.60000000e+01, 3.60000000e+01, 1.80000000e+01,\n",
       "        3.00000000e+00, 4.40000000e+01, 1.00000000e+01, 6.90000000e+01,\n",
       "        5.10000000e+01, 2.70000000e+01, 3.30000000e+01, 1.50000000e+01,\n",
       "        5.70000000e+01, 4.30000000e+01, 4.70000000e+01, 3.70000000e+01,\n",
       "        1.10000000e+01, 6.50000000e+01, 3.80000000e+01, 2.90000000e+01,\n",
       "        1.30000000e+01, 3.30000000e+01, 4.80000000e+01, 1.40000000e+01]])"
      ]
     },
     "execution_count": 52,
     "metadata": {},
     "output_type": "execute_result"
    }
   ],
   "source": [
    "y_pred = y_predict.reshape(1,-1)\n",
    "y_pred"
   ]
  },
  {
   "cell_type": "code",
   "execution_count": 53,
   "id": "25c36868",
   "metadata": {},
   "outputs": [
    {
     "data": {
      "text/plain": [
       "446    43\n",
       "55      7\n",
       "424    68\n",
       "161    61\n",
       "526    56\n",
       "Name: predictingToFull, dtype: int64"
      ]
     },
     "execution_count": 53,
     "metadata": {},
     "output_type": "execute_result"
    }
   ],
   "source": [
    "y_test.head()"
   ]
  },
  {
   "cell_type": "code",
   "execution_count": 55,
   "id": "bc1df9b3",
   "metadata": {},
   "outputs": [
    {
     "data": {
      "text/plain": [
       "Text(0, 0.5, 'Predicting To Full')"
      ]
     },
     "execution_count": 55,
     "metadata": {},
     "output_type": "execute_result"
    },
    {
     "data": {
      "image/png": "[encoded data removed]",
      "text/plain": [
       "<Figure size 432x288 with 1 Axes>"
      ]
     },
     "metadata": {
      "needs_background": "light"
     },
     "output_type": "display_data"
    }
   ],
   "source": [
    "plt.scatter(X_test[\"waterLevel\"],y_predict,color='red')\n",
    "#plt.plot(X_test[\"Humidity\"],y_predict)\n",
    "plt.title(\"Predicting To Full v/s Water Level\")\n",
    "plt.xlabel(\"Water Level\")\n",
    "plt.ylabel(\"Predicting To Full\")"
   ]
  },
  {
   "cell_type": "code",
   "execution_count": 56,
   "id": "51815aa8",
   "metadata": {},
   "outputs": [
    {
     "data": {
      "text/plain": [
       "Text(0, 0.5, 'Predicting To Full')"
      ]
     },
     "execution_count": 56,
     "metadata": {},
     "output_type": "execute_result"
    },
    {
     "data": {
      "image/png": "[encoded data removed]",
      "text/plain": [
       "<Figure size 432x288 with 1 Axes>"
      ]
     },
     "metadata": {
      "needs_background": "light"
     },
     "output_type": "display_data"
    }
   ],
   "source": [
    "plt.scatter(X_test[\"waterLevel\"],y_test,color=\"green\")\n",
    "# plt.plot(X_test,y_test)\n",
    "# X_test.shape\n",
    "plt.title(\"Predicting To Full v/s Water Level\")\n",
    "plt.xlabel(\"Water Level\")\n",
    "plt.ylabel(\"Predicting To Full\")"
   ]
  },
  {
   "cell_type": "code",
   "execution_count": 57,
   "id": "1b33f8a6",
   "metadata": {},
   "outputs": [
    {
     "data": {
      "text/html": [
       "<div>\n",
       "<style scoped>\n",
       "    .dataframe tbody tr th:only-of-type {\n",
       "        vertical-align: middle;\n",
       "    }\n",
       "\n",
       "    .dataframe tbody tr th {\n",
       "        vertical-align: top;\n",
       "    }\n",
       "\n",
       "    .dataframe thead th {\n",
       "        text-align: right;\n",
       "    }\n",
       "</style>\n",
       "<table border=\"1\" class=\"dataframe\">\n",
       "  <thead>\n",
       "    <tr style=\"text-align: right;\">\n",
       "      <th></th>\n",
       "      <th>predictingToFull</th>\n",
       "      <th>y_predict</th>\n",
       "    </tr>\n",
       "  </thead>\n",
       "  <tbody>\n",
       "    <tr>\n",
       "      <th>446</th>\n",
       "      <td>43</td>\n",
       "      <td>43.0</td>\n",
       "    </tr>\n",
       "    <tr>\n",
       "      <th>55</th>\n",
       "      <td>7</td>\n",
       "      <td>7.0</td>\n",
       "    </tr>\n",
       "    <tr>\n",
       "      <th>424</th>\n",
       "      <td>68</td>\n",
       "      <td>68.0</td>\n",
       "    </tr>\n",
       "    <tr>\n",
       "      <th>161</th>\n",
       "      <td>61</td>\n",
       "      <td>61.0</td>\n",
       "    </tr>\n",
       "    <tr>\n",
       "      <th>526</th>\n",
       "      <td>56</td>\n",
       "      <td>56.0</td>\n",
       "    </tr>\n",
       "    <tr>\n",
       "      <th>181</th>\n",
       "      <td>4</td>\n",
       "      <td>4.0</td>\n",
       "    </tr>\n",
       "    <tr>\n",
       "      <th>756</th>\n",
       "      <td>8</td>\n",
       "      <td>8.0</td>\n",
       "    </tr>\n",
       "    <tr>\n",
       "      <th>182</th>\n",
       "      <td>68</td>\n",
       "      <td>68.0</td>\n",
       "    </tr>\n",
       "    <tr>\n",
       "      <th>811</th>\n",
       "      <td>73</td>\n",
       "      <td>73.0</td>\n",
       "    </tr>\n",
       "    <tr>\n",
       "      <th>360</th>\n",
       "      <td>38</td>\n",
       "      <td>38.0</td>\n",
       "    </tr>\n",
       "    <tr>\n",
       "      <th>301</th>\n",
       "      <td>66</td>\n",
       "      <td>66.0</td>\n",
       "    </tr>\n",
       "    <tr>\n",
       "      <th>200</th>\n",
       "      <td>40</td>\n",
       "      <td>40.0</td>\n",
       "    </tr>\n",
       "    <tr>\n",
       "      <th>248</th>\n",
       "      <td>45</td>\n",
       "      <td>45.0</td>\n",
       "    </tr>\n",
       "    <tr>\n",
       "      <th>2</th>\n",
       "      <td>16</td>\n",
       "      <td>16.0</td>\n",
       "    </tr>\n",
       "    <tr>\n",
       "      <th>247</th>\n",
       "      <td>11</td>\n",
       "      <td>11.0</td>\n",
       "    </tr>\n",
       "    <tr>\n",
       "      <th>349</th>\n",
       "      <td>35</td>\n",
       "      <td>35.0</td>\n",
       "    </tr>\n",
       "    <tr>\n",
       "      <th>702</th>\n",
       "      <td>15</td>\n",
       "      <td>15.0</td>\n",
       "    </tr>\n",
       "    <tr>\n",
       "      <th>991</th>\n",
       "      <td>9</td>\n",
       "      <td>9.0</td>\n",
       "    </tr>\n",
       "    <tr>\n",
       "      <th>572</th>\n",
       "      <td>28</td>\n",
       "      <td>28.0</td>\n",
       "    </tr>\n",
       "    <tr>\n",
       "      <th>236</th>\n",
       "      <td>4</td>\n",
       "      <td>4.0</td>\n",
       "    </tr>\n",
       "  </tbody>\n",
       "</table>\n",
       "</div>"
      ],
      "text/plain": [
       "     predictingToFull  y_predict\n",
       "446                43       43.0\n",
       "55                  7        7.0\n",
       "424                68       68.0\n",
       "161                61       61.0\n",
       "526                56       56.0\n",
       "181                 4        4.0\n",
       "756                 8        8.0\n",
       "182                68       68.0\n",
       "811                73       73.0\n",
       "360                38       38.0\n",
       "301                66       66.0\n",
       "200                40       40.0\n",
       "248                45       45.0\n",
       "2                  16       16.0\n",
       "247                11       11.0\n",
       "349                35       35.0\n",
       "702                15       15.0\n",
       "991                 9        9.0\n",
       "572                28       28.0\n",
       "236                 4        4.0"
      ]
     },
     "execution_count": 57,
     "metadata": {},
     "output_type": "execute_result"
    }
   ],
   "source": [
    "test = pd.DataFrame(y_test)\n",
    "test[\"y_predict\"]= 0\n",
    "test[\"y_predict\"] = y_predict\n",
    "test.head(20)"
   ]
  },
  {
   "cell_type": "code",
   "execution_count": 60,
   "id": "2cdb3d9c",
   "metadata": {},
   "outputs": [
    {
     "data": {
      "text/plain": [
       "waterLevel              37\n",
       "humidity                12\n",
       "temperature             16\n",
       "windSpeed                8\n",
       "clouds                  47\n",
       "pedictedWeather     Clouds\n",
       "predictingToFull        34\n",
       "Name: 703, dtype: object"
      ]
     },
     "execution_count": 60,
     "metadata": {},
     "output_type": "execute_result"
    }
   ],
   "source": [
    "weather.iloc[703]"
   ]
  },
  {
   "cell_type": "code",
   "execution_count": 61,
   "id": "0bc4fba7",
   "metadata": {},
   "outputs": [
    {
     "data": {
      "text/plain": [
       "1.0"
      ]
     },
     "execution_count": 61,
     "metadata": {},
     "output_type": "execute_result"
    }
   ],
   "source": [
    "from sklearn.metrics import explained_variance_score\n",
    "variance = explained_variance_score(y_test,y_predict, multioutput='uniform_average')\n",
    "variance"
   ]
  },
  {
   "cell_type": "code",
   "execution_count": null,
   "id": "06f54b2c",
   "metadata": {},
   "outputs": [],
   "source": []
  }
 ],
 "metadata": {
  "kernelspec": {
   "display_name": "Python 3 (ipykernel)",
   "language": "python",
   "name": "python3"
  },
  "language_info": {
   "codemirror_mode": {
    "name": "ipython",
    "version": 3
   },
   "file_extension": ".py",
   "mimetype": "text/x-python",
   "name": "python",
   "nbconvert_exporter": "python",
   "pygments_lexer": "ipython3",
   "version": "3.9.7"
  }
 },
 "nbformat": 4,
 "nbformat_minor": 5
}
